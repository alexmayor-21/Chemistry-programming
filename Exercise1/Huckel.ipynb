{
 "cells": [
  {
   "cell_type": "code",
   "execution_count": 2,
   "metadata": {
    "collapsed": true
   },
   "outputs": [],
   "source": [
    "import numpy as np\n",
    "from collections import Counter\n",
    "import argparse, sys"
   ]
  },
  {
   "cell_type": "code",
   "execution_count": 1,
   "metadata": {
    "collapsed": true
   },
   "outputs": [],
   "source": [
    "class Huckel:\n",
    "    \n",
    "    \"\"\"\n",
    "    Class used to calculate energies of delocalised systems using Huckel's theory.\n",
    "    \"\"\"\n",
    "    platonic_adjacency = {4: {0:[1,2,3], 1:[2,3], 2:[3]},\n",
    "            6: {0:[1,2,3,4], 1:[2,3,5], 2:[3,5], 3:[4,5], 4:[5]},\n",
    "            8: {0:[1,3,4], 1:[2,5], 2:[3,6], 3:[7], 4:[5,7], 5:[6], 6:[7]}}\n",
    "                \n",
    "    def __init__(self, n, cyclic=False, platonic=False, alpha=0, beta=-1, verbose=True):\n",
    "        if n < 2:\n",
    "            raise ValueError(\"Molecule isn't defined\")\n",
    "        if platonic and n not in platonic_adjacency.keys():\n",
    "            raise ValueError(\"Platonic solid with given number vertices doesn't exist\")\n",
    "        if cyclic and platonic:\n",
    "            raise ValueError(\"Molecule cannot be both cyclic and platonic\") \n",
    "            \n",
    "        self.n = n\n",
    "        self.cyclic = cyclic\n",
    "        self.platonic = platonic\n",
    "        self.alpha = 0\n",
    "        self.beta = -1\n",
    "        self._bonds = self._getBonds()\n",
    "        self.eig = self._getEig()\n",
    "        if verbose: self.printEnerg()\n",
    "        \n",
    "    def _getBonds(self):\n",
    "        \"\"\"\n",
    "        Return a dictionary where keys are atom positions and values are lists of positions, greater than the key,\n",
    "        that are connected to it.\n",
    "        \"\"\"\n",
    "        if self.platonic:\n",
    "            return platonic_adjacency[n]\n",
    "        else:\n",
    "            bonds = {i: [i+1] for i in range(self.n-1)}\n",
    "            if self.cyclic: bonds[0].append(self.n-1)\n",
    "            return bonds\n",
    "\n",
    "    def _getEig(self):\n",
    "        \"\"\"\n",
    "        Construct Huckel matrix and return energy levels and with degeneracies as a sorted list of tuples.\n",
    "        \"\"\"\n",
    "        hMat = np.zeros((self.n, self.n))\n",
    "        np.fill_diagonal(hMat, self.alpha)\n",
    "        for row in range(self.n):\n",
    "            for col in range(row+1, self.n, 1):\n",
    "                if col in self._bonds[row]:\n",
    "                    hMat[row, col] = self.beta\n",
    "                    hMat[col, row] = self.beta\n",
    "        evals, evecs = np.linalg.eig(hMat)\n",
    "        # method works only in Python 3\n",
    "        # assert math.isclose(sum(evals), 0.)\n",
    "        return sorted(Counter(evals).items(), reverse=True)  \n",
    "    \n",
    "    def printEnerg(self):\n",
    "        \"\"\"\n",
    "        Print energies and degeneracies with formatting.\n",
    "        \"\"\"\n",
    "        print (\"Energy\\tDegeneracy\\n\")\n",
    "        for energy, degen in self.eig:\n",
    "            if energy > 0: print (\" %.3f\\t%i\" % (energy, degen))\n",
    "            else: print (\"%.3f\\t%i\" % (energy, degen))\n",
    "        print"
   ]
  },
  {
   "cell_type": "code",
   "execution_count": 4,
   "metadata": {},
   "outputs": [
    {
     "name": "stdout",
     "output_type": "stream",
     "text": [
      "Energy\tDegeneracy\n",
      "\n",
      " 1.618\t1\n",
      " 0.618\t1\n",
      "-0.618\t1\n",
      "-1.618\t1\n"
     ]
    }
   ],
   "source": [
    "Huckel(4);"
   ]
  },
  {
   "cell_type": "code",
   "execution_count": 186,
   "metadata": {
    "collapsed": true
   },
   "outputs": [],
   "source": [
    "def main():\n",
    "    # Tests from Part IB handout\n",
    "    # Start\n",
    "    energs, degs = zip(*Huckel(4, verbose=False).eig)\n",
    "    energs = set([round(energ, 3) for energ in energs])\n",
    "    assert energs == set([1.618, 0.618, -1.618, -0.618]) \n",
    "    \n",
    "    energs, degs = zip(*Huckel(4, cyclic=True, verbose=False).eig)\n",
    "    energs = set([round(energ, 3) for energ in energs])\n",
    "    assert energs == set([0., -2., +2.])\n",
    "    # End\n",
    "\n",
    "    parser = argparse.ArgumentParser()\n",
    "    parser.add_argument(\"n\", help=\"display a square of a given number\", type=int)\n",
    "    parser.add_argument(\"-cyclic\", help=\"flag for cyclic molecule\", action=\"store_true\")\n",
    "    parser.add_argument(\"-platonic\", help=\"flag for platonic solid\", action=\"store_true\")\n",
    "    parser.add_argument(\"--alpha\", help=\"value of alpha (AO energy)\", type=int)\n",
    "    parser.add_argument(\"--beta\", help=\"value of beta (resonance integral\", type=int)\n",
    "    args = parser.parse_args()\n",
    "\n",
    "    Huckel(n=args.n, cyclic=args.cyclic, platonic=args.platonic, alpha=args.alpha, beta=args.beta)"
   ]
  },
  {
   "cell_type": "code",
   "execution_count": 184,
   "metadata": {},
   "outputs": [
    {
     "name": "stderr",
     "output_type": "stream",
     "text": [
      "usage: ipykernel_launcher.py [-h]\n",
      "ipykernel_launcher.py: error: unrecognized arguments: -f /Users/alexmayorov/Library/Jupyter/runtime/kernel-f3fcd2b5-7c2c-42d5-85c0-5b161270df82.json\n"
     ]
    },
    {
     "ename": "SystemExit",
     "evalue": "2",
     "output_type": "error",
     "traceback": [
      "An exception has occurred, use %tb to see the full traceback.\n",
      "\u001b[0;31mSystemExit\u001b[0m\u001b[0;31m:\u001b[0m 2\n"
     ]
    },
    {
     "name": "stderr",
     "output_type": "stream",
     "text": [
      "/anaconda/envs/py36/lib/python3.6/site-packages/IPython/core/interactiveshell.py:2889: UserWarning: To exit: use 'exit', 'quit', or Ctrl-D.\n",
      "  warn(\"To exit: use 'exit', 'quit', or Ctrl-D.\", stacklevel=1)\n"
     ]
    }
   ],
   "source": [
    "main()"
   ]
  },
  {
   "cell_type": "code",
   "execution_count": null,
   "metadata": {
    "collapsed": true
   },
   "outputs": [],
   "source": []
  }
 ],
 "metadata": {
  "kernelspec": {
   "display_name": "py36",
   "language": "python",
   "name": "py36"
  },
  "language_info": {
   "codemirror_mode": {
    "name": "ipython",
    "version": 3
   },
   "file_extension": ".py",
   "mimetype": "text/x-python",
   "name": "python",
   "nbconvert_exporter": "python",
   "pygments_lexer": "ipython3",
   "version": "3.6.1"
  }
 },
 "nbformat": 4,
 "nbformat_minor": 2
}
